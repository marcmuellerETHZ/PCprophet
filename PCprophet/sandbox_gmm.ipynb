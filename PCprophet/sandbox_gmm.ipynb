{
 "cells": [
  {
   "cell_type": "code",
   "execution_count": 8,
   "metadata": {},
   "outputs": [],
   "source": [
    "import re\n",
    "import sys\n",
    "import os\n",
    "import numpy as np\n",
    "import pandas as pd\n",
    "from dask import dataframe as dd\n",
    "import matplotlib.pyplot as plt\n",
    "from scipy import cluster\n",
    "\n",
    "from scipy.optimize import curve_fit\n",
    "from scipy.signal import find_peaks\n",
    "\n",
    "import PCprophet.io_ as io\n",
    "import PCprophet.generate_features_allbyall as gf"
   ]
  },
  {
   "cell_type": "code",
   "execution_count": 35,
   "metadata": {},
   "outputs": [
    {
     "name": "stdout",
     "output_type": "stream",
     "text": [
      "Number of analyzed genes in ..\\test\\test_frac.txt: 47\n",
      "Removed 0 empty or invalid keys from prot_dict.\n"
     ]
    }
   ],
   "source": [
    "infile = \"..\\\\test\\\\test_frac.txt\"\n",
    "prot_dict = io.read_txt(path=infile)\n",
    "clean_prot_dict = gf.clean_prot_dict(prot_dict)"
   ]
  },
  {
   "cell_type": "code",
   "execution_count": 43,
   "metadata": {},
   "outputs": [],
   "source": [
    "first_protein = list(prot_dict.keys())[0]\n",
    "fractions = np.arange(1, len(prot_dict[first_protein]) + 1)\n",
    "intensities = np.array(prot_dict[first_protein])"
   ]
  },
  {
   "cell_type": "code",
   "execution_count": 44,
   "metadata": {},
   "outputs": [],
   "source": [
    "def get_dynamic_initial_guesses(fractions, intensities, n_gaussians):\n",
    "    # Smooth the intensities for peak detection (optional, reduces noise)\n",
    "    smoothed_intensities = np.convolve(intensities, np.ones(3) / 3, mode='same')\n",
    "    \n",
    "    # Detect peaks\n",
    "    peak_indices, properties = find_peaks(smoothed_intensities, height=np.mean(intensities))\n",
    "    detected_peaks = len(peak_indices)\n",
    "    print(f\"Number of peaks detected: {detected_peaks}\")\n",
    "    \n",
    "    # Sort peaks by intensity (most intense first)\n",
    "    if detected_peaks > 0:\n",
    "        sorted_indices = np.argsort(properties[\"peak_heights\"])[::-1]\n",
    "        peak_indices = peak_indices[sorted_indices]\n",
    "        peak_heights = properties[\"peak_heights\"][sorted_indices]\n",
    "    else:\n",
    "        peak_heights = []\n",
    "\n",
    "    # Initialize guesses\n",
    "    initial_guess = []\n",
    "    for i in range(n_gaussians):\n",
    "        if i < detected_peaks:\n",
    "            # Use the most intense detected peaks for initial guesses\n",
    "            fraction_guess = fractions[peak_indices[i]]\n",
    "            amplitude_guess = peak_heights[i]\n",
    "        else:\n",
    "            # Fallback to random guesses if not enough peaks are detected\n",
    "            fraction_guess = np.random.uniform(fractions.min(), fractions.max())\n",
    "            amplitude_guess = np.random.uniform(0.5 * max(intensities), max(intensities))\n",
    "        \n",
    "        # Standard deviation guess\n",
    "        std_guess = (fractions.max() - fractions.min()) / (2 * n_gaussians)  # Approximate width\n",
    "        initial_guess.extend([amplitude_guess, fraction_guess, std_guess])\n",
    "    \n",
    "    return initial_guess\n",
    "\n",
    "# Define a Gaussian function\n",
    "def gaussian(x, amp, mean, std):\n",
    "    return amp * np.exp(-0.5 * ((x - mean) / std) ** 2)\n",
    "\n",
    "# Define a function that sums multiple Gaussians\n",
    "def multi_gaussian(x, *params):\n",
    "    n_gaussians = len(params) // 3\n",
    "    result = np.zeros_like(x, dtype=np.float64)\n",
    "    for i in range(n_gaussians):\n",
    "        amp = params[i * 3]\n",
    "        mean = params[i * 3 + 1]\n",
    "        std = params[i * 3 + 2]\n",
    "        result += gaussian(x, amp, mean, std)\n",
    "    return result\n",
    "\n",
    "# IC calculation function\n",
    "def calculate_ic(y_true, y_pred, num_params, ic=\"BIC\"):\n",
    "\n",
    "    residuals = y_true - y_pred\n",
    "    rss = np.sum(residuals ** 2)\n",
    "    n = len(y_true)\n",
    "\n",
    "    if ic == \"AIC\":\n",
    "        ic = 2 * num_params + n * np.log(rss / n)\n",
    "\n",
    "    elif ic == \"BIC\":\n",
    "        ic = num_params * np.log(n) + n * np.log(rss / n)\n",
    "\n",
    "    return ic"
   ]
  },
  {
   "cell_type": "code",
   "execution_count": 45,
   "metadata": {},
   "outputs": [
    {
     "name": "stdout",
     "output_type": "stream",
     "text": [
      "Number of peaks detected: 3\n",
      "n_components: 1 - IC: 1457.2076912477448\n",
      "Number of peaks detected: 3\n",
      "n_components: 2 - IC: 1677.9516386819178\n",
      "Number of peaks detected: 3\n",
      "n_components: 3 - IC: 1690.4282879338166\n",
      "Number of peaks detected: 3\n",
      "Fitting failed for 4 Gaussians.\n",
      "Number of peaks detected: 3\n",
      "Fitting failed for 5 Gaussians.\n"
     ]
    }
   ],
   "source": [
    "# Fit data with 1 to n_gaussians\n",
    "n_gaussians_max = 5\n",
    "best_fit = None\n",
    "best_ic = np.inf\n",
    "all_ics = []\n",
    "all_fits = []\n",
    "\n",
    "max_intensity = max(intensities)\n",
    "initial_guess = []\n",
    "\n",
    "\n",
    "for n_gaussians in range(1, n_gaussians_max + 1):\n",
    "    # Generate dynamic initial guesses\n",
    "    initial_guess = get_dynamic_initial_guesses(fractions, intensities, n_gaussians)\n",
    "    \n",
    "    try:\n",
    "        # Fit the model\n",
    "        params, _ = curve_fit(multi_gaussian, fractions, intensities, p0=initial_guess)\n",
    "        \n",
    "        # Calculate fitted curve and AIC\n",
    "        fitted_curve = multi_gaussian(fractions, *params)\n",
    "        ic = calculate_ic(intensities, fitted_curve, len(params), ic=\"BIC\")\n",
    "        all_ics.append(ic)\n",
    "        all_fits.append(fitted_curve)\n",
    "        print(f\"n_components: {n_gaussians} - IC: {ic}\")\n",
    "        \n",
    "        # Update best model if AIC improves\n",
    "        if ic < best_ic:\n",
    "            best_ic = ic\n",
    "            best_fit = (n_gaussians, params, fitted_curve)\n",
    "    except RuntimeError:\n",
    "        # Skip cases where fitting fails\n",
    "        print(f\"Fitting failed for {n_gaussians} Gaussians.\")\n",
    "        all_ics.append(np.inf)\n",
    "        all_fits.append(None)\n",
    "\n",
    "# Extract best model\n",
    "best_n_gaussians, best_params, best_fitted_curve = best_fit\n",
    "gaussian_means = [best_params[i * 3 + 1] for i in range(best_n_gaussians)]"
   ]
  },
  {
   "cell_type": "code",
   "execution_count": 46,
   "metadata": {},
   "outputs": [
    {
     "data": {
      "image/png": "[encoded data removed]",
      "text/plain": [
       "<Figure size 720x432 with 1 Axes>"
      ]
     },
     "metadata": {
      "needs_background": "light"
     },
     "output_type": "display_data"
    }
   ],
   "source": [
    "# Plot the data and the best fit\n",
    "plt.figure(figsize=(10, 6))\n",
    "plt.plot(fractions, intensities, label='Synthetic Data', color='gray', linestyle='dashed')\n",
    "plt.plot(fractions, best_fitted_curve, label=f'Best Fit: {best_n_gaussians} Gaussians', color='red')\n",
    "for mean in gaussian_means:\n",
    "    plt.axvline(mean, color='blue', linestyle='--', alpha=0.7, label='Gaussian Mean' if mean == gaussian_means[0] else \"\")\n",
    "plt.xlabel('Fractions')\n",
    "plt.ylabel('Intensity')\n",
    "plt.title(f'Best Gaussian Fit (IC = {best_ic:.2f})')\n",
    "plt.legend()\n",
    "plt.show()"
   ]
  },
  {
   "cell_type": "code",
   "execution_count": null,
   "metadata": {},
   "outputs": [],
   "source": []
  }
 ],
 "metadata": {
  "kernelspec": {
   "display_name": "pcprophet_env",
   "language": "python",
   "name": "python3"
  },
  "language_info": {
   "codemirror_mode": {
    "name": "ipython",
    "version": 3
   },
   "file_extension": ".py",
   "mimetype": "text/x-python",
   "name": "python",
   "nbconvert_exporter": "python",
   "pygments_lexer": "ipython3",
   "version": "3.6.15"
  }
 },
 "nbformat": 4,
 "nbformat_minor": 2
}
